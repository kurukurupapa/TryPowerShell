{
 "cells": [
  {
   "cell_type": "markdown",
   "metadata": {},
   "source": [
    "Powershellの言語について"
   ]
  },
  {
   "cell_type": "markdown",
   "metadata": {},
   "source": [
    "## 準備"
   ]
  },
  {
   "cell_type": "code",
   "execution_count": 9,
   "metadata": {
    "dotnet_interactive": {
     "language": "pwsh"
    },
    "polyglot_notebook": {
     "kernelName": "pwsh"
    }
   },
   "outputs": [
    {
     "name": "stdout",
     "output_type": "stream",
     "text": [
      "\n",
      "\u001b[32;1mName                           Value\u001b[0m\n",
      "\u001b[32;1m----                           -----\u001b[0m\n",
      "PSVersion                      7.3.6\n",
      "PSEdition                      Core\n",
      "GitCommitId                    7.3.6\n",
      "OS                             Microsoft Windows 10.0.22621\n",
      "Platform                       Win32NT\n",
      "PSCompatibleVersions           {1.0, 2.0, 3.0, 4.0…}\n",
      "PSRemotingProtocolVersion      2.3\n",
      "SerializationVersion           1.1.0.1\n",
      "WSManStackVersion              3.0\n",
      "\n"
     ]
    }
   ],
   "source": [
    "$PSVersionTable"
   ]
  },
  {
   "cell_type": "markdown",
   "metadata": {},
   "source": [
    "## クラス定義"
   ]
  },
  {
   "cell_type": "markdown",
   "metadata": {},
   "source": [
    "コンストラクタのオーバーロード"
   ]
  },
  {
   "cell_type": "code",
   "execution_count": 32,
   "metadata": {
    "dotnet_interactive": {
     "language": "pwsh"
    },
    "polyglot_notebook": {
     "kernelName": "pwsh"
    }
   },
   "outputs": [
    {
     "name": "stdout",
     "output_type": "stream",
     "text": [
      "String1=文字列1, Int1=\n",
      "String1=, Int1=123\n"
     ]
    }
   ],
   "source": [
    "class Message {\n",
    "  $String1\n",
    "  $Int1\n",
    "\n",
    "  Message([string]$String1) {\n",
    "    $this.String1 = $String1\n",
    "  }\n",
    "\n",
    "  Message([int]$Int1) {\n",
    "    $this.Int1 = $Int1\n",
    "  }\n",
    "\n",
    "  Print() {\n",
    "    Write-Host \"String1=$($this.String1), Int1=$($this.Int1)\"\n",
    "  }\n",
    "}\n",
    "\n",
    "(New-Object Message(\"文字列1\")).Print()\n",
    "(New-Object Message(123)).Print()"
   ]
  },
  {
   "cell_type": "code",
   "execution_count": 34,
   "metadata": {
    "dotnet_interactive": {
     "language": "pwsh"
    },
    "polyglot_notebook": {
     "kernelName": "pwsh"
    }
   },
   "outputs": [
    {
     "name": "stdout",
     "output_type": "stream",
     "text": [
      "\u001b[31;1mNew-Object: \u001b[0m\n",
      "\u001b[31;1m\u001b[36;1mLine |\u001b[0m\n",
      "\u001b[31;1m\u001b[36;1m\u001b[36;1m  17 | \u001b[0m (\u001b[36;1mNew-Object Message\u001b[0m).Print()\u001b[0m\n",
      "\u001b[31;1m\u001b[36;1m\u001b[36;1m\u001b[0m\u001b[36;1m\u001b[0m\u001b[36;1m     | \u001b[31;1m  ~~~~~~~~~~~~~~~~~~\u001b[0m\n",
      "\u001b[31;1m\u001b[36;1m\u001b[36;1m\u001b[0m\u001b[36;1m\u001b[0m\u001b[36;1m\u001b[31;1m\u001b[31;1m\u001b[36;1m     | \u001b[31;1mException calling \".ctor\" with \"0\" argument(s): \"The term 'Message' is not recognized as a name of a cmdlet, function, script file, or executable program.\u001b[0m\n",
      "\u001b[31;1m\u001b[36;1m\u001b[36;1m\u001b[0m\u001b[36;1m\u001b[0m\u001b[36;1m\u001b[31;1m\u001b[31;1m\u001b[36;1m\u001b[31;1mCheck the spelling of the name, or if a path was included, verify that the path is correct and try again.\"\u001b[0m\n"
     ]
    },
    {
     "ename": "Error",
     "evalue": "Command failed: SubmitCode: class Message { ...",
     "output_type": "error",
     "traceback": [
      "Command failed: SubmitCode: class Message { ..."
     ]
    }
   ],
   "source": [
    "class Message {\n",
    "  $String1\n",
    "\n",
    "  Message([string]$String1) {\n",
    "    $this.String1 = $String1\n",
    "  }\n",
    "\n",
    "  Message() {\n",
    "    Message(\"Dummy\") #=> エラー\n",
    "  }\n",
    "\n",
    "  Print() {\n",
    "    Write-Host \"String1=$($this.String1)\"\n",
    "  }\n",
    "}\n",
    "\n",
    "(New-Object Message).Print()"
   ]
  },
  {
   "cell_type": "markdown",
   "metadata": {},
   "source": [
    "メソッドの引数にデフォルト値を設定できるか？ →できなさそう"
   ]
  },
  {
   "cell_type": "code",
   "execution_count": 12,
   "metadata": {
    "dotnet_interactive": {
     "language": "pwsh"
    },
    "polyglot_notebook": {
     "kernelName": "pwsh"
    }
   },
   "outputs": [
    {
     "name": "stdout",
     "output_type": "stream",
     "text": [
      "\u001b[31;1mMethodException: \u001b[0m\n",
      "\u001b[31;1m\u001b[36;1mLine |\u001b[0m\n",
      "\u001b[31;1m\u001b[36;1m\u001b[36;1m   8 | \u001b[0m \u001b[36;1m$obj.Say()\u001b[0m #=> エラーになってしまう。デフォルト引数が使えない？\u001b[0m\n",
      "\u001b[31;1m\u001b[36;1m\u001b[36;1m\u001b[0m\u001b[36;1m\u001b[0m\u001b[36;1m     | \u001b[31;1m ~~~~~~~~~~\u001b[0m\n",
      "\u001b[31;1m\u001b[36;1m\u001b[36;1m\u001b[0m\u001b[36;1m\u001b[0m\u001b[36;1m\u001b[31;1m\u001b[31;1m\u001b[36;1m     | \u001b[31;1mCannot find an overload for \"Say\" and the argument count: \"0\".\u001b[0m\n"
     ]
    }
   ],
   "source": [
    "class Greeting {\n",
    "  [void] Say($msg=\"Hello\") {\n",
    "    Write-Host $msg\n",
    "  }\n",
    "}\n",
    "\n",
    "$obj = New-Object Greeting\n",
    "$obj.Say() #=> エラーになってしまう。デフォルト引数が使えない？"
   ]
  },
  {
   "cell_type": "code",
   "execution_count": 14,
   "metadata": {
    "dotnet_interactive": {
     "language": "pwsh"
    },
    "polyglot_notebook": {
     "kernelName": "pwsh"
    }
   },
   "outputs": [
    {
     "name": "stdout",
     "output_type": "stream",
     "text": [
      "Hello\r\n"
     ]
    }
   ],
   "source": [
    "class Greeting {\n",
    "  [void] Say() {\n",
    "    $this.Say(\"Hello\")\n",
    "  }\n",
    "  [void] Say($msg) {\n",
    "    Write-Host $msg\n",
    "  }\n",
    "}\n",
    "\n",
    "$obj = New-Object Greeting\n",
    "$obj.Say()"
   ]
  }
 ],
 "metadata": {
  "kernelspec": {
   "display_name": ".NET (PowerShell)",
   "language": "PowerShell",
   "name": ".net-pwsh"
  },
  "language_info": {
   "name": "polyglot-notebook"
  },
  "polyglot_notebook": {
   "kernelInfo": {
    "defaultKernelName": "pwsh",
    "items": [
     {
      "aliases": [],
      "languageName": "pwsh",
      "name": "pwsh"
     }
    ]
   }
  }
 },
 "nbformat": 4,
 "nbformat_minor": 2
}
