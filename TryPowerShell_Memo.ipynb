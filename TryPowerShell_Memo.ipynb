{
 "cells": [
  {
   "cell_type": "markdown",
   "metadata": {},
   "source": [
    "TryPowerShellメモ"
   ]
  },
  {
   "cell_type": "markdown",
   "metadata": {},
   "source": [
    "### エンコードのメモ"
   ]
  },
  {
   "cell_type": "code",
   "execution_count": 1,
   "metadata": {
    "dotnet_interactive": {
     "language": "pwsh"
    },
    "polyglot_notebook": {
     "kernelName": "pwsh"
    },
    "vscode": {
     "languageId": "polyglot-notebook"
    }
   },
   "outputs": [
    {
     "name": "stdout",
     "output_type": "stream",
     "text": [
      "$OutputEncoding: Unicode (UTF-8)\n",
      "System.Console.OutputEncoding: Unicode (UTF-8)\n"
     ]
    }
   ],
   "source": [
    "# 初期設定を保存・確認\n",
    "Write-Output \"`$OutputEncoding: $($OutputEncoding.EncodingName)\"\n",
    "$defaultOutputEncoding = $OutputEncoding\n",
    "Write-Output \"System.Console.OutputEncoding: $([System.Console]::OutputEncoding.EncodingName)\"\n",
    "$defaultConsoleOutputEncoding = [System.Console]::OutputEncoding"
   ]
  },
  {
   "cell_type": "code",
   "execution_count": 2,
   "metadata": {
    "dotnet_interactive": {
     "language": "pwsh"
    },
    "polyglot_notebook": {
     "kernelName": "pwsh"
    },
    "vscode": {
     "languageId": "polyglot-notebook"
    }
   },
   "outputs": [
    {
     "name": "stdout",
     "output_type": "stream",
     "text": [
      "\u001b[31;1m2023/09/09 21:18:03.84 DummyCsv �����J�n���܂��B \u001b[0m\n",
      "\u001b[31;1m2023/09/09 21:18:03.85 DummyCsv ����I���ł��B \u001b[0m\n",
      "\u001b[31;1m2023/09/09 21:18:04.04 DummyCsv 処理開始します。 \u001b[0m\n",
      "\u001b[31;1m2023/09/09 21:18:04.40 DummyCsv 正常終了です。 \u001b[0m\n"
     ]
    }
   ],
   "source": [
    "# SJISテストデータ作成\n",
    "\n",
    "$OutputEncoding = [System.Text.Encoding]::GetEncoding('shift_jis')\n",
    "& \"$($env:OneDrive)\\Dev\\TryWindowsBatch\\Bat\\DummyCsv.bat\" 10 > \".\\work\\dummy_1KB.csv\"\n",
    "$OutputEncoding = $defaultOutputEncoding\n",
    "#=> 文字化けしてしまった。\n",
    "\n",
    "[System.Console]::OutputEncoding = [System.Text.Encoding]::GetEncoding(\"shift_jis\")\n",
    "& \"$($env:OneDrive)\\Dev\\TryWindowsBatch\\Bat\\DummyCsv.bat\" 1000 | Out-File -Encoding shift_jis \".\\work\\dummy_100KB.csv\"\n",
    "[System.Console]::OutputEncoding = $defaultConsoleOutputEncoding"
   ]
  },
  {
   "cell_type": "code",
   "execution_count": 30,
   "metadata": {
    "dotnet_interactive": {
     "language": "pwsh"
    },
    "polyglot_notebook": {
     "kernelName": "pwsh"
    },
    "vscode": {
     "languageId": "polyglot-notebook"
    }
   },
   "outputs": [
    {
     "name": "stdout",
     "output_type": "stream",
     "text": [
      "\n",
      "work\\dummy_100KB.csv:602:602,0123456789,\"abcde\",\"ABCDE\",\"���{��e�L�X�g\",12,\u001b[7m1234,\u001b[0mxxxxxxxxxxxxxxxxxxx\u001b[0m\n",
      "\u001b[7m\u001b[0mxxxxxxxxxxxxxxxxxxxxxxxxxxxxxxx\u001b[0m\n",
      "work\\dummy_100KB.csv:602:602,0123456789,\"abcde\",\"ABCDE\",\"���{��e�L�X�g\",12,\u001b[7m1234,\u001b[0mxxxxxxxxxxxxxxxxxxx\u001b[0m\n",
      "\u001b[7m\u001b[0mxxxxxxxxxxxxxxxxxxxxxxxxxxxxxxx\u001b[0m\n",
      "602,0123456789,\"abcde\",\"ABCDE\",\"日本語テキスト\",12,\u001b[7m1234,\u001b[0mxxxxxxxxxxxxxxxxxxxxxxxxxxxxxxxxxxxxxxxxxxx\u001b[0m\n",
      "\u001b[7m\u001b[0mxxxxxxx\u001b[0m\n",
      "\n"
     ]
    }
   ],
   "source": [
    "# SJISファイルを読み込んでみる\n",
    "\n",
    "$OutputEncoding = [System.Text.Encoding]::GetEncoding('shift_jis')\n",
    "Select-String '1234,' \".\\work\\dummy_100KB.csv\"\n",
    "$OutputEncoding = $defaultOutputEncoding\n",
    "#=> 文字化け\n",
    "\n",
    "[System.Console]::OutputEncoding = [System.Text.Encoding]::GetEncoding(\"shift_jis\")\n",
    "Select-String '1234,' \".\\work\\dummy_100KB.csv\"\n",
    "[System.Console]::OutputEncoding = $defaultConsoleOutputEncoding\n",
    "#=> 文字化け\n",
    "\n",
    "Get-Content \".\\work\\dummy_100KB.csv\" -Encoding sjis | Select-String '1234,'"
   ]
  },
  {
   "cell_type": "markdown",
   "metadata": {},
   "source": [
    "### テキスト処理"
   ]
  },
  {
   "cell_type": "code",
   "execution_count": 12,
   "metadata": {
    "dotnet_interactive": {
     "language": "pwsh"
    },
    "polyglot_notebook": {
     "kernelName": "pwsh"
    },
    "vscode": {
     "languageId": "polyglot-notebook"
    }
   },
   "outputs": [
    {
     "name": "stdout",
     "output_type": "stream",
     "text": [
      "1行目\n",
      "2行目\n",
      "3行目\n",
      "\n",
      "2行目\n",
      "3行\n"
     ]
    }
   ],
   "source": [
    "# 複数行のマッチングを行う正規表現\n",
    "$text = \"1行目`r`n2行目`r`n3行目`r`n\"\n",
    "Write-Output $text\n",
    "if ($text -match \"2行目[\\s\\S]+行\") {\n",
    "  Write-Output $Matches[0]\n",
    "}"
   ]
  },
  {
   "cell_type": "markdown",
   "metadata": {},
   "source": [
    "### クリップボード監視"
   ]
  },
  {
   "cell_type": "code",
   "execution_count": null,
   "metadata": {
    "dotnet_interactive": {
     "language": "pwsh"
    },
    "polyglot_notebook": {
     "kernelName": "pwsh"
    },
    "vscode": {
     "languageId": "polyglot-notebook"
    }
   },
   "outputs": [],
   "source": [
    "Add-Type -AssemblyName System.Windows.Forms\n",
    "#=> Polyglot Notebooks だとエラーになった。\n",
    "# Add-Type: Cannot find path 'xxx\\System.Windows.Forms.dll' because it does not exist.\n",
    "\n",
    "# While ($true) {\n",
    "#   $fileList = [System.Windows.Forms.Clipboard]::GetFileDropList()\n",
    "#   $image = [System.Windows.Forms.Clipboard]::GetImage()\n",
    "#   $text = [System.Windows.Forms.Clipboard]::GetText()\n",
    "#   if ($fileList -ne $oldFileList) {\n",
    "#     Write-Output $fileList\n",
    "#   }\n",
    "#   if ($image -ne $oldImage) {\n",
    "#     Write-Output $image\n",
    "#   }\n",
    "#   if ($text -ne $oldText) {\n",
    "#     Write-Output $text\n",
    "#   }\n",
    "#   $oldFileList= $fileList\n",
    "#   $oldImage = $image\n",
    "#   $oldText = $text\n",
    "#   Start-Sleep 1\n",
    "# }"
   ]
  },
  {
   "cell_type": "markdown",
   "metadata": {},
   "source": [
    "### 音声合成"
   ]
  },
  {
   "cell_type": "code",
   "execution_count": 6,
   "metadata": {
    "dotnet_interactive": {
     "language": "pwsh"
    },
    "polyglot_notebook": {
     "kernelName": "pwsh"
    },
    "vscode": {
     "languageId": "polyglot-notebook"
    }
   },
   "outputs": [
    {
     "name": "stdout",
     "output_type": "stream",
     "text": [
      "\n",
      "\u001b[32;1mGender                : \u001b[0mFemale\n",
      "\u001b[32;1mAge                   : \u001b[0mAdult\n",
      "\u001b[32;1mName                  : \u001b[0mMicrosoft Haruka Desktop\n",
      "\u001b[32;1mCulture               : \u001b[0mja-JP\n",
      "\u001b[32;1mId                    : \u001b[0mTTS_MS_JA-JP_HARUKA_11.0\n",
      "\u001b[32;1mDescription           : \u001b[0mMicrosoft Haruka Desktop - Japanese\n",
      "\u001b[32;1mSupportedAudioFormats : \u001b[0m{}\n",
      "\u001b[32;1mAdditionalInfo        : \u001b[0m{[Age, Adult], [Gender, Female], [Language, 411], [Name, Microsoft Haruka D\n",
      "                        esktop]…}\n",
      "\n",
      "\u001b[32;1mGender                : \u001b[0mFemale\n",
      "\u001b[32;1mAge                   : \u001b[0mAdult\n",
      "\u001b[32;1mName                  : \u001b[0mMicrosoft Zira Desktop\n",
      "\u001b[32;1mCulture               : \u001b[0men-US\n",
      "\u001b[32;1mId                    : \u001b[0mTTS_MS_EN-US_ZIRA_11.0\n",
      "\u001b[32;1mDescription           : \u001b[0mMicrosoft Zira Desktop - English (United States)\n",
      "\u001b[32;1mSupportedAudioFormats : \u001b[0m{}\n",
      "\u001b[32;1mAdditionalInfo        : \u001b[0m{[Age, Adult], [Gender, Female], [Language, 409], [Name, Microsoft Zira Des\n",
      "                        ktop]…}\n",
      "\n",
      "\n"
     ]
    }
   ],
   "source": [
    "# PowerShellでMacのsayコマンドのように合成音声にテキストを読み上げさせてみる | 俺的備忘録 〜なんかいろいろ〜\n",
    "# https://orebibou.com/ja/home/201708/20170813_001/\n",
    "\n",
    "Add-Type -AssemblyName System.speech\n",
    "$ss = New-Object System.Speech.Synthesis.SpeechSynthesizer\n",
    "$ss.Speak(\"こんにちは\")\n",
    "\n",
    "$ss.GetInstalledVoices() | %{ $_.VoiceInfo }"
   ]
  },
  {
   "cell_type": "markdown",
   "metadata": {},
   "source": [
    "### Visual Studio Code"
   ]
  },
  {
   "cell_type": "markdown",
   "metadata": {},
   "source": [
    "tasks.json\n",
    "- コマンドレットから\"Tasks: Configure Task\">\"テンプレートから tasks.json を生成\">\"Others\"を選んで生成できた。\n",
    "- または、メニューの\"ターミナル\">\"タスクの構成\"からも生成できる。"
   ]
  },
  {
   "cell_type": "markdown",
   "metadata": {},
   "source": [
    "ps1ファイル\n",
    "- F8 - 選択範囲を実行\n",
    "- Ctrl+F1 - カーソルのコマンドレットについてオンラインヘルプを参照"
   ]
  }
 ],
 "metadata": {
  "language_info": {
   "name": "csharp"
  },
  "orig_nbformat": 4
 },
 "nbformat": 4,
 "nbformat_minor": 2
}
